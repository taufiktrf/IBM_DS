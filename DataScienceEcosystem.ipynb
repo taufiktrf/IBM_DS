{
 "cells": [
  {
   "attachments": {},
   "cell_type": "markdown",
   "id": "d9578b3a-3a1d-4899-9ead-9b87feb979bd",
   "metadata": {},
   "source": [
    "# Data Science Tools and Ecosystem"
   ]
  },
  {
   "attachments": {},
   "cell_type": "markdown",
   "id": "7284367d-255d-4255-be15-8d22f75ef3a2",
   "metadata": {},
   "source": [
    "In this notebook, Data Science Tools and Ecosystem are summarized."
   ]
  },
  {
   "cell_type": "markdown",
   "id": "025ac73d-a926-4f9a-aa09-b5f51c33d21f",
   "metadata": {},
   "source": [
    "*I am interested because I want to use the techniques in solving real life problems*"
   ]
  },
  {
   "attachments": {},
   "cell_type": "markdown",
   "id": "723a4bd9-180e-4ba9-bf0e-5631f6b23bd6",
   "metadata": {},
   "source": [
    "Some of the popular languages that Data Scientists use are:\n",
    "1. Python\n",
    "2. R\n",
    "3. SQL"
   ]
  },
  {
   "attachments": {},
   "cell_type": "markdown",
   "id": "16c928a5-a0d6-41d7-95bb-832dc336620a",
   "metadata": {},
   "source": [
    "Some of the commonly used libraries used by Data Scientists include:\n",
    "1. numpy\n",
    "2. pandas\n",
    "3. matplotlib"
   ]
  },
  {
   "attachments": {},
   "cell_type": "markdown",
   "id": "6fa97a73-0761-4c31-ade0-4b66619c2c0f",
   "metadata": {},
   "source": [
    "# Data Science Tools\n",
    "| Data Science Tools |\n",
    "| ------------------ |\n",
    "| Jupyter Notebook   |\n",
    "| RStudio            |\n",
    "| Spyder             |\n"
   ]
  },
  {
   "cell_type": "markdown",
   "id": "a57165c5",
   "metadata": {},
   "source": [
    "### Below are a few examples of evaluating arithmetic expressions in Python\n"
   ]
  },
  {
   "attachments": {},
   "cell_type": "markdown",
   "id": "c2175aed",
   "metadata": {},
   "source": [
    "This a simple arithmetic expression to mutiply then add integers"
   ]
  },
  {
   "cell_type": "code",
   "execution_count": 3,
   "id": "9599687a",
   "metadata": {},
   "outputs": [
    {
     "name": "stdout",
     "output_type": "stream",
     "text": [
      "17\n"
     ]
    }
   ],
   "source": [
    "print((3*4)+5)"
   ]
  },
  {
   "cell_type": "code",
   "execution_count": 5,
   "id": "9614bb12",
   "metadata": {},
   "outputs": [
    {
     "name": "stdout",
     "output_type": "stream",
     "text": [
      "3.3333333333333335\n"
     ]
    }
   ],
   "source": [
    "#This will convert 200 minutes to hours by diving by 60\n",
    "print(200/60)"
   ]
  },
  {
   "attachments": {},
   "cell_type": "markdown",
   "id": "7e9c2831",
   "metadata": {},
   "source": [
    "**Objectives**\n",
    "- data science\n",
    "- jupyter\n",
    "- python basic"
   ]
  },
  {
   "attachments": {},
   "cell_type": "markdown",
   "id": "86a86c31",
   "metadata": {},
   "source": [
    "## Author\n",
    "Taufikur Rahman Fuad"
   ]
  },
  {
   "cell_type": "markdown",
   "id": "d210d248",
   "metadata": {},
   "source": []
  }
 ],
 "metadata": {
  "kernelspec": {
   "display_name": "Python 3",
   "language": "python",
   "name": "python3"
  },
  "language_info": {
   "codemirror_mode": {
    "name": "ipython",
    "version": 3
   },
   "file_extension": ".py",
   "mimetype": "text/x-python",
   "name": "python",
   "nbconvert_exporter": "python",
   "pygments_lexer": "ipython3",
   "version": "3.11.1"
  }
 },
 "nbformat": 4,
 "nbformat_minor": 5
}
