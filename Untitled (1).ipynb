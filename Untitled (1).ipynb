{
 "cells": [
  {
   "cell_type": "markdown",
   "id": "d9578b3a-3a1d-4899-9ead-9b87feb979bd",
   "metadata": {},
   "source": [
    "# My Jupyter Notebook on IBM Watson Studio"
   ]
  },
  {
   "cell_type": "markdown",
   "id": "7284367d-255d-4255-be15-8d22f75ef3a2",
   "metadata": {},
   "source": [
    "**Taufikur Rahman Fuad**  \n",
    "Data science enthusiast"
   ]
  },
  {
   "cell_type": "markdown",
   "id": "025ac73d-a926-4f9a-aa09-b5f51c33d21f",
   "metadata": {},
   "source": [
    "*I am interested because I want to use the techniques in solving real life problems*"
   ]
  },
  {
   "cell_type": "markdown",
   "id": "723a4bd9-180e-4ba9-bf0e-5631f6b23bd6",
   "metadata": {},
   "source": [
    "### I'm just writing a simple code to print 2*2"
   ]
  },
  {
   "cell_type": "code",
   "execution_count": 1,
   "id": "16c928a5-a0d6-41d7-95bb-832dc336620a",
   "metadata": {},
   "outputs": [
    {
     "name": "stdout",
     "output_type": "stream",
     "text": [
      "4\n"
     ]
    }
   ],
   "source": [
    "print(2*2)"
   ]
  },
  {
   "cell_type": "markdown",
   "id": "6fa97a73-0761-4c31-ade0-4b66619c2c0f",
   "metadata": {},
   "source": [
    "bullet\n",
    "- bullet 1\n",
    "- bullet 2\n",
    "\n",
    "numbers\n",
    "1. num1\n",
    "2. num2\n",
    "\n",
    "~~Strikethrough~~"
   ]
  }
 ],
 "metadata": {
  "kernelspec": {
   "display_name": "Python",
   "language": "python",
   "name": "conda-env-python-py"
  },
  "language_info": {
   "codemirror_mode": {
    "name": "ipython",
    "version": 3
   },
   "file_extension": ".py",
   "mimetype": "text/x-python",
   "name": "python",
   "nbconvert_exporter": "python",
   "pygments_lexer": "ipython3",
   "version": "3.7.12"
  }
 },
 "nbformat": 4,
 "nbformat_minor": 5
}
